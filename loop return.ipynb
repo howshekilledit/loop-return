{
 "cells": [
  {
   "cell_type": "code",
   "execution_count": 1,
   "id": "de4b6cb9",
   "metadata": {},
   "outputs": [],
   "source": [
    "import numpy as np\n",
    "import math"
   ]
  },
  {
   "cell_type": "code",
   "execution_count": 2,
   "id": "f0882ee0",
   "metadata": {},
   "outputs": [],
   "source": [
    "#list datatype\n",
    "#never name a list list\n",
    "\n",
    "#declare a list variable and populate it with test scores \n",
    "test_scores = [ 22, 99, 102, 33, 57, 75, 100, 81, 62, 29 ]"
   ]
  },
  {
   "cell_type": "code",
   "execution_count": 3,
   "id": "1a820f65",
   "metadata": {},
   "outputs": [],
   "source": [
    "#define function that returns sum\n",
    "def get_sum(num_list):\n",
    "   #initialize sum\n",
    "    sum = 0\n",
    "    #add each test score to sum\n",
    "    #for loop that loops through list\n",
    "    for x in num_list:\n",
    "        sum = sum + x\n",
    "    return sum "
   ]
  },
  {
   "cell_type": "code",
   "execution_count": 4,
   "id": "ea5af237",
   "metadata": {},
   "outputs": [],
   "source": [
    "#prof green's version\n",
    "def get_median(num_list):\n",
    "    n = len(num_list)\n",
    "    m_index = int(n/2)\n",
    "    num_list = list(np.sort(num_list))\n",
    "    if n%2:\n",
    "        median = num_list[m_index]\n",
    "    else:\n",
    "        median = 0.5*(num_list[m_index] + num_list[m_index-1])\n",
    "    return median\n",
    "\n"
   ]
  },
  {
   "cell_type": "code",
   "execution_count": null,
   "id": "93c33bfa",
   "metadata": {},
   "outputs": [],
   "source": [
    "#jackon's version\n",
    "def get_median(num_list):\n",
    "        #sort list\n",
    "    sorted_list = list(np.sort(num_list))\n",
    "    #calculate median\n",
    "    median_index = (len(sorted_list)/2)\n",
    "    if (median_index - np.floor(median_index)) == 0:\n",
    "        median = (sorted_list[int(median_index)] + sorted_list[int(median_index-1)]) /2\n",
    "    else:\n",
    "        median = sorted_list[int(median_index-0.5)]\n",
    "    return median"
   ]
  },
  {
   "cell_type": "code",
   "execution_count": 5,
   "id": "044f8e30",
   "metadata": {},
   "outputs": [],
   "source": [
    "#import dependencies\n",
    "import math\n",
    "def do_homework(num_list):\n",
    "    #mean\n",
    "    sum = get_sum(num_list)\n",
    "    n = len(num_list)\n",
    "    mean = sum/n\n",
    "    #initialize an empty list for delta mean\n",
    "    delta_mean_list = []\n",
    "    #populate delta mean list\n",
    "    for i in test_scores:\n",
    "        d_mean = i - mean\n",
    "        delta_mean_list.append(d_mean)\n",
    "    #initialize an empty list for delta mean squared\n",
    "    delta_mean_squared_list = []\n",
    "    #populate delta squared mean list\n",
    "    for d_mean in delta_mean_list:\n",
    "        d_mean_sqrd = d_mean**2 #assign d_mean squared to variable\n",
    "        delta_mean_squared_list.append(d_mean_sqrd)\n",
    "    delta_mean_squared_sum = get_sum(delta_mean_squared_list)\n",
    "    variance = delta_mean_squared_sum/n\n",
    "    standard_deviation = math.sqrt(variance)\n",
    "    #calculate median <- NEEDS FIXING\n",
    "    median = get_median(num_list)\n",
    "    return mean, median, standard_deviation\n",
    "\n",
    "\n",
    "\n",
    "\n",
    "    "
   ]
  },
  {
   "cell_type": "code",
   "execution_count": 6,
   "id": "07857568",
   "metadata": {},
   "outputs": [
    {
     "name": "stdout",
     "output_type": "stream",
     "text": [
      "[22, 99, 102, 33, 57, 75, 100, 81, 62, 29]\n",
      "(66.0, 68.5, 28.875595231960155)\n",
      "(60.714285714285715, 60, 35.08639898288232)\n",
      "(44.0, 44.0, 36.30151511989548)\n",
      "(7.2, 7, 53.48669616518361)\n",
      "(114.44444444444444, 110, 59.44805573431185)\n"
     ]
    }
   ],
   "source": [
    "print(test_scores)\n",
    "print(do_homework(test_scores))\n",
    "print(do_homework([35, 50, 60, 60, 75, 65, 80]))\n",
    "print(do_homework([51, 48, 47, 46, 45, 43, 41, 40, 40, 39]))\n",
    "print(do_homework([11, 7, 14, 2, 8, 13, 3, 6, 10, 3, 8, 4, 8, 4, 7]))\n",
    "print(do_homework([135, 115, 120, 110, 110, 100, 105, 110, 125]))\n"
   ]
  },
  {
   "cell_type": "code",
   "execution_count": 13,
   "id": "acf4598d",
   "metadata": {},
   "outputs": [
    {
     "name": "stdout",
     "output_type": "stream",
     "text": [
      "mean: 66.0\n",
      "median: 68.5\n",
      "SD: 28.875595231960155\n",
      "\n",
      "mean: 60.714285714285715\n",
      "median: 60.0\n",
      "SD: 13.997084244475303\n",
      "\n",
      "mean: 44.0\n",
      "median: 44.0\n",
      "SD: 3.82099463490856\n",
      "\n",
      "mean: 7.2\n",
      "median: 7.0\n",
      "SD: 3.54400902933387\n",
      "\n",
      "mean: 114.44444444444444\n",
      "median: 110.0\n",
      "SD: 10.122703976826998\n",
      "\n"
     ]
    },
    {
     "data": {
      "text/plain": [
       "(0    114.444444\n",
       " dtype: float64,\n",
       " 0    110.0\n",
       " dtype: float64,\n",
       " 0    10.122704\n",
       " dtype: float64)"
      ]
     },
     "execution_count": 13,
     "metadata": {},
     "output_type": "execute_result"
    }
   ],
   "source": [
    "import pandas as pd\n",
    "def do_homework_quickly(num_list):\n",
    "    df = pd.DataFrame(num_list)\n",
    "    mean = df.mean()\n",
    "    median = df.median()\n",
    "    sd = df.std(ddof=0)\n",
    "    print('mean: {}\\nmedian: {}\\nSD: {}\\n'.format(mean[0], median[0], sd[0]))\n",
    "    return mean, median, sd\n",
    "\n",
    "do_homework_quickly(test_scores)\n",
    "do_homework_quickly([35, 50, 60, 60, 75, 65, 80])\n",
    "do_homework_quickly([51, 48, 47, 46, 45, 43, 41, 40, 40, 39])\n",
    "do_homework_quickly([11, 7, 14, 2, 8, 13, 3, 6, 10, 3, 8, 4, 8, 4, 7])\n",
    "do_homework_quickly([135, 115, 120, 110, 110, 100, 105, 110, 125])\n"
   ]
  },
  {
   "cell_type": "code",
   "execution_count": null,
   "id": "dda824fe",
   "metadata": {},
   "outputs": [],
   "source": []
  }
 ],
 "metadata": {
  "kernelspec": {
   "display_name": "Python 3 (ipykernel)",
   "language": "python",
   "name": "python3"
  },
  "language_info": {
   "codemirror_mode": {
    "name": "ipython",
    "version": 3
   },
   "file_extension": ".py",
   "mimetype": "text/x-python",
   "name": "python",
   "nbconvert_exporter": "python",
   "pygments_lexer": "ipython3",
   "version": "3.10.1"
  }
 },
 "nbformat": 4,
 "nbformat_minor": 5
}
